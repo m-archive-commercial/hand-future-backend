{
 "cells": [
  {
   "cell_type": "code",
   "execution_count": null,
   "metadata": {
    "collapsed": true,
    "jupyter": {
     "outputs_hidden": true
    }
   },
   "outputs": [],
   "source": [
    "# depreciated, since we use web then !\n",
    "data = {\n",
    "    \"user\": {\n",
    "        \"name\": \"苏阳\",\n",
    "        \"avatar\": \"/Users/mark/Projects/HandFuture/website/2.12 分享卡片设计文件夹(_F)/Links/苏阳_avatar.jpg\",\n",
    "        \"title\": \"杰出的民族摇滚音乐家、当代艺术家\"\n",
    "    }\n",
    "}"
   ]
  }
 ],
 "metadata": {
  "kernelspec": {
   "display_name": "Python 3 (ipykernel)",
   "language": "python",
   "name": "python3"
  },
  "language_info": {
   "codemirror_mode": {
    "name": "ipython",
    "version": 3
   },
   "file_extension": ".py",
   "mimetype": "text/x-python",
   "name": "python",
   "nbconvert_exporter": "python",
   "pygments_lexer": "ipython3",
   "version": "3.10.8"
  }
 },
 "nbformat": 4,
 "nbformat_minor": 4
}
